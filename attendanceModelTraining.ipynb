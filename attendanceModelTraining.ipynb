{
 "cells": [
  {
   "cell_type": "code",
   "execution_count": null,
   "metadata": {},
   "outputs": [
    {
     "name": "stdout",
     "output_type": "stream",
     "text": [
      "Model saved as 'model.joblib'\n",
      "Training accuracy: 1.0\n",
      "Testing accuracy: 0.8211382113821138\n"
     ]
    }
   ],
   "source": [
    "import pandas as pd\n",
    "from sklearn.preprocessing import OneHotEncoder\n",
    "from sklearn.compose import ColumnTransformer\n",
    "from sklearn.tree import DecisionTreeRegressor\n",
    "from sklearn.model_selection import train_test_split\n",
    "from joblib import dump, load  # Import for saving and loading models\n",
    "\n",
    "# Load the new dataset\n",
    "df_new = pd.read_csv('cleaned.csv')\n",
    "\n",
    "# Define features (X) and target (Y)\n",
    "X = df_new[['Team', 'Game Number', 'Opponent Team', 'Arena Capacity']]\n",
    "Y = df_new['Percentage']\n",
    "\n",
    "# One-hot encode categorical columns: 'Team' and 'Opponent Team'\n",
    "categorical_features = ['Team', 'Opponent Team']\n",
    "preprocessor = ColumnTransformer(\n",
    "    transformers=[('cat', OneHotEncoder(), categorical_features)],\n",
    "    remainder='passthrough'\n",
    ")\n",
    "\n",
    "# Preprocess features\n",
    "X_processed = preprocessor.fit_transform(X)\n",
    "\n",
    "# Split the data into training and testing sets\n",
    "X_train, X_test, Y_train, Y_test = train_test_split(X_processed, Y, test_size=0.3, random_state=7)\n",
    "\n",
    "# Train the DecisionTreeRegressor\n",
    "regressor = DecisionTreeRegressor(random_state=7)\n",
    "regressor.fit(X_train, Y_train)\n",
    "\n",
    "# Save the trained model to a file\n",
    "dump(regressor, 'model.joblib')\n",
    "print(\"Model saved as 'model.joblib'\")\n",
    "\n",
    "# Make predictions\n",
    "train_pred = regressor.predict(X_train)\n",
    "test_pred = regressor.predict(X_test)\n",
    "\n",
    "# Define the margin of error\n",
    "margin_of_error = 0.05\n",
    "\n",
    "# Calculate accuracies within the 5% margin of error\n",
    "train_accuracy = (abs(train_pred - Y_train) <= margin_of_error).mean()\n",
    "test_accuracy = (abs(test_pred - Y_test) <= margin_of_error).mean()\n",
    "\n",
    "print(f\"Training accuracy: {train_accuracy}\")\n",
    "print(f\"Testing accuracy: {test_accuracy}\")"
   ]
  }
 ],
 "metadata": {
  "kernelspec": {
   "display_name": "base",
   "language": "python",
   "name": "python3"
  },
  "language_info": {
   "codemirror_mode": {
    "name": "ipython",
    "version": 3
   },
   "file_extension": ".py",
   "mimetype": "text/x-python",
   "name": "python",
   "nbconvert_exporter": "python",
   "pygments_lexer": "ipython3",
   "version": "3.9.7"
  }
 },
 "nbformat": 4,
 "nbformat_minor": 2
}
